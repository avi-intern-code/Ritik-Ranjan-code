{
 "cells": [
  {
   "cell_type": "code",
   "execution_count": 12,
   "metadata": {},
   "outputs": [],
   "source": [
    "import cv2 as cv\n",
    "from imutils import resize\n",
    "import numpy as np"
   ]
  },
  {
   "cell_type": "code",
   "execution_count": 50,
   "metadata": {},
   "outputs": [],
   "source": []
  },
  {
   "cell_type": "code",
   "execution_count": 24,
   "metadata": {},
   "outputs": [],
   "source": [
    "\"\"\" Algorithm\n",
    "* find the pixel absolute diffrence using absdiff\n",
    "* convert to gray for simplyifing the process of finding contour\n",
    "* middle process\n",
    "    ** blur the frame\n",
    "    ** threshold the gray image to cancel the unnecessary elements\n",
    "    ** dilate the image\n",
    "* find and draw contour\n",
    "\"\"\"\n",
    "\n",
    "def detectMotion(frame1, frame2) -> np.array:\n",
    "    diff = cv.absdiff(frame1, frame2)\n",
    "    gray = cv.cvtColor(diff, cv.COLOR_BGR2GRAY)\n",
    "    blur = cv.GaussianBlur(gray, (3, 3), 0)\n",
    "    _, thres = cv.threshold(blur, 20, 255, cv.THRESH_BINARY)\n",
    "    dilated = cv.dilate(thres, None, iterations=1)\n",
    "    contours, _ = cv.findContours(dilated, cv.RETR_TREE, cv.CHAIN_APPROX_SIMPLE)\n",
    "    \n",
    "#     cv.drawContours(frame1, contours, -1, (0, 255, 0), 3)\n",
    "    for contour in contours:\n",
    "        (x, y, w, h) = cv.boundingRect(contour)\n",
    "        if cv.contourArea(contour) >= 1000:\n",
    "            cv.rectangle(frame1, (x, y), (x+w, y+h), (0, 255, 0), 3)\n",
    "            cv.putText(frame1, \"Status: {}\".format(\"Movement\"), (10, 20), cv.FONT_HERSHEY_SIMPLEX, 2, (0, 0, 255), 3)\n",
    "    \n",
    "    return frame1"
   ]
  },
  {
   "cell_type": "markdown",
   "metadata": {},
   "source": [
    "## Tracking object using meanshift"
   ]
  },
  {
   "cell_type": "code",
   "execution_count": 51,
   "metadata": {},
   "outputs": [],
   "source": [
    "cap = cv.VideoCapture(\"./Videos/People Walking Free Stock Footage, Royalty-Free No Copyright Content.mp4\")\n",
    "_, frame = cap.read()\n",
    "x, y, w, h = 125, 235, 45, 45\n",
    "track_window = (x, y, w, h)\n",
    "roi = frame[y:y+h, x:x+w]\n",
    "hsv_roi = cv.cvtColor(roi, cv.COLOR_BGR2HSV)\n",
    "mask = cv.inRange(hsv_roi, np.array((1., 60., 32.)), np.array((180., 255., 255.)))\n",
    "roi_hist = cv.calcHist([hsv_roi], [0], mask, [180], [0, 180])\n",
    "cv.normalize(roi_hist, roi_hist, 0, 255, cv.NORM_MINMAX)\n",
    "\n",
    "term_crit = (cv.TERM_CRITERIA_EPS | cv.TERM_CRITERIA_COUNT, 10, 2)\n",
    "\n",
    "while cap.isOpened():\n",
    "#     frame = detectMotion(frame1, frame2)\n",
    "    _, frame = cap.read()\n",
    "    hsv = cv.cvtColor(frame, cv.COLOR_BGR2HSV)\n",
    "    dst = cv.calcBackProject([hsv], [0], roi_hist, [0, 180], 1)\n",
    "    \n",
    "    ret, track_window = cv.meanShift(dst, track_window, term_crit)\n",
    "    x, y, w, h = track_window\n",
    "    final_image = cv.rectangle(frame, (x, y), (x+w, y+h), (0, 255, 0), 3)\n",
    "    cv.imshow(\"video\", final_image)\n",
    "    \n",
    "    if cv.waitKey(20) == ord(\"q\"):\n",
    "        break\n",
    "cv.destroyAllWindows()"
   ]
  },
  {
   "cell_type": "markdown",
   "metadata": {},
   "source": [
    "## CAMShift"
   ]
  },
  {
   "cell_type": "code",
   "execution_count": 55,
   "metadata": {},
   "outputs": [],
   "source": [
    "cap = cv.VideoCapture(\"./Videos/People Walking Free Stock Footage, Royalty-Free No Copyright Content.mp4\")\n",
    "_, frame = cap.read()\n",
    "x, y, w, h = 125, 235, 45, 45\n",
    "track_window = (x, y, w, h)\n",
    "roi = frame[y:y+h, x:x+w]\n",
    "hsv_roi = cv.cvtColor(roi, cv.COLOR_BGR2HSV)\n",
    "mask = cv.inRange(hsv_roi, np.array((1., 60., 32.)), np.array((180., 255., 255.)))\n",
    "roi_hist = cv.calcHist([hsv_roi], [0], mask, [180], [0, 180])\n",
    "cv.normalize(roi_hist, roi_hist, 0, 255, cv.NORM_MINMAX)\n",
    "\n",
    "term_crit = (cv.TERM_CRITERIA_EPS | cv.TERM_CRITERIA_COUNT, 10, 2)\n",
    "\n",
    "while cap.isOpened():\n",
    "#     frame = detectMotion(frame1, frame2)\n",
    "    _, frame = cap.read()\n",
    "    hsv = cv.cvtColor(frame, cv.COLOR_BGR2HSV)\n",
    "    dst = cv.calcBackProject([hsv], [0], roi_hist, [0, 180], 1)\n",
    "    ret, track_window = cv.CamShift(dst, track_window, term_crit)\n",
    "    \n",
    "    pts = cv.boxPoints(ret)\n",
    "    pts = np.int0(pts)\n",
    "    final_image = cv.polylines(frame, [pts], True, (0, 255, 0), 2)\n",
    "#     x, y, w, h = track_window\n",
    "#     final_image = cv.rectangle(frame, (x, y), (x+w, y+h), (0, 255, 0), 3)\n",
    "    cv.imshow(\"video\", final_image)\n",
    "    \n",
    "    if cv.waitKey(20) == ord(\"q\"):\n",
    "        break\n",
    "cv.destroyAllWindows()"
   ]
  },
  {
   "cell_type": "code",
   "execution_count": null,
   "metadata": {},
   "outputs": [],
   "source": []
  }
 ],
 "metadata": {
  "kernelspec": {
   "display_name": "Python 3",
   "language": "python",
   "name": "python3"
  },
  "language_info": {
   "codemirror_mode": {
    "name": "ipython",
    "version": 3
   },
   "file_extension": ".py",
   "mimetype": "text/x-python",
   "name": "python",
   "nbconvert_exporter": "python",
   "pygments_lexer": "ipython3",
   "version": "3.9.5"
  }
 },
 "nbformat": 4,
 "nbformat_minor": 4
}
