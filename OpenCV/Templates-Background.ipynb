{
 "cells": [
  {
   "cell_type": "code",
   "execution_count": 1,
   "metadata": {},
   "outputs": [],
   "source": [
    "import os\n",
    "\n",
    "import cv2 as cv\n",
    "from imutils import resize\n",
    "import numpy as np\n",
    "from matplotlib import pyplot as plt\n",
    "from skimage import data"
   ]
  },
  {
   "cell_type": "code",
   "execution_count": 6,
   "metadata": {},
   "outputs": [],
   "source": [
    "def nothing(x):\n",
    "    pass\n",
    "\n",
    "cap = cv.VideoCapture(0)\n",
    "\n",
    "cv.namedWindow(\"Tracking\")\n",
    "\n",
    "cv.createTrackbar(\"LH\", \"Tracking\", 0, 255, nothing)\n",
    "cv.createTrackbar(\"LS\", \"Tracking\", 0, 255, nothing)\n",
    "cv.createTrackbar(\"LV\", \"Tracking\", 0, 255, nothing)\n",
    "cv.createTrackbar(\"UH\", \"Tracking\", 255, 255, nothing)\n",
    "cv.createTrackbar(\"US\", \"Tracking\", 255, 255, nothing)\n",
    "cv.createTrackbar(\"UV\", \"Tracking\", 255, 255, nothing)\n",
    "\n",
    "while True:\n",
    "#     frame = cv.imread(\"./images/balloon.jpg\")\n",
    "    _, frame = cap.read()\n",
    "    \n",
    "#     frame = resize(frame, width=480)\n",
    "    \n",
    "    hsv = cv.cvtColor(frame, cv.COLOR_BGR2HSV)\n",
    "    \n",
    "    l_h = cv.getTrackbarPos(\"LH\", \"Tracking\")\n",
    "    l_s = cv.getTrackbarPos(\"LS\", \"Tracking\")\n",
    "    l_v = cv.getTrackbarPos(\"LV\", \"Tracking\")\n",
    "    \n",
    "    u_h = cv.getTrackbarPos(\"UH\", \"Tracking\")\n",
    "    u_s = cv.getTrackbarPos(\"US\", \"Tracking\")\n",
    "    u_v = cv.getTrackbarPos(\"UV\", \"Tracking\")\n",
    "    \n",
    "    l_b = np.array([l_h, l_s, l_v])\n",
    "    u_b = np.array([u_h, u_s, u_v])\n",
    "    \n",
    "    mask = cv.inRange(hsv, l_b, u_b)\n",
    "    \n",
    "    res = cv.bitwise_and(frame, frame, mask=mask)\n",
    "    \n",
    "    cv.imshow(\"frame\", frame)\n",
    "    cv.imshow(\"mask\", mask)\n",
    "    cv.imshow(\"result\", res)\n",
    "    \n",
    "    key = cv.waitKey(1)\n",
    "    if key == 27 or key == ord(\"q\"):\n",
    "        break\n",
    "\n",
    "cap.release()\n",
    "cv.destroyAllWindows()"
   ]
  },
  {
   "cell_type": "markdown",
   "metadata": {},
   "source": [
    "## Smoothing and Blurring of image"
   ]
  },
  {
   "cell_type": "code",
   "execution_count": 3,
   "metadata": {},
   "outputs": [],
   "source": [
    "%matplotlib inline\n",
    "%config InlineBackend.figure_format = 'retina'"
   ]
  },
  {
   "cell_type": "code",
   "execution_count": 60,
   "metadata": {},
   "outputs": [
    {
     "data": {
      "text/plain": [
       "<Figure size 720x1440 with 0 Axes>"
      ]
     },
     "metadata": {},
     "output_type": "display_data"
    }
   ],
   "source": [
    "img = cv.imread(\"./images/bubbles.jpg\")\n",
    "# img = data.chelsea\n",
    "# img = cv.cvtColor(img, cv.COLOR_BGR2RGB)\n",
    "img = resize(img, width = 480)\n",
    "\n",
    "kernel = np.full((5, 5), 1, np.float32) / 25\n",
    "dst = cv.filter2D(img, -1, kernel)\n",
    "blur = cv.blur(img, (5, 5))\n",
    "gblur = cv.GaussianBlur(img, (5, 5), 0)\n",
    "mblur = cv.medianBlur(img, 5)\n",
    "biFilter = cv.bilateralFilter(img, 9, 75, 75)\n",
    "\n",
    "\n",
    "title = [\"Image\", \"2D Convolution\", \"Blur\", \"Gaussian Blur\", \"Median Blur\", \"Bilateral Filter\"]\n",
    "images = [img, dst, blur, gblur, mblur, biFilter]\n",
    "\n",
    "\n",
    "plt.figure(figsize=(10,20))\n",
    "for i in range(len(title)):\n",
    "    cv.imshow(title[i], images[i])\n",
    "\n",
    "cv.waitKey(0)\n",
    "cv.destroyAllWindows()"
   ]
  },
  {
   "cell_type": "markdown",
   "metadata": {},
   "source": [
    "## Image pyramid"
   ]
  },
  {
   "cell_type": "code",
   "execution_count": 6,
   "metadata": {},
   "outputs": [],
   "source": [
    "img = cv.imread(\"./images/balloon.jpg\")\n",
    "# img = resize(img, width=480)\n",
    "\n",
    "l_r = cv.pyrDown(img)\n",
    "h_r = cv.pyrUp(l_r)\n",
    "\n",
    "cv.imshow(\"Image\", img)\n",
    "cv.imshow(\"pyrDown\", l_r)\n",
    "cv.imshow(\"pyrUP from pyrDown\", h_r)\n",
    "cv.waitKey(0)\n",
    "cv.destroyAllWindows()"
   ]
  },
  {
   "cell_type": "markdown",
   "metadata": {},
   "source": [
    "## Image Templating"
   ]
  },
  {
   "cell_type": "code",
   "execution_count": 62,
   "metadata": {},
   "outputs": [
    {
     "name": "stdout",
     "output_type": "stream",
     "text": [
      "150 90\n"
     ]
    }
   ],
   "source": [
    "img = cv.imread(\"./images/logo.png\")\n",
    "img = cv.cvtColor(img, cv.COLOR_BGR2GRAY)\n",
    "temp = img[50:210, 300:450]\n",
    "\n",
    "w, h = temp.shape[::-1]\n",
    "\n",
    "res = cv.matchTemplate(img, temp, cv.TM_CCORR_NORMED)\n",
    "threshold = 0.9999\n",
    "loc = np.where(res >= threshold)\n",
    "# print(loc)\n",
    "\n",
    "for pt in zip(*loc[::-1]):\n",
    "    cv.rectangle(img, pt, (pt[0] + w, pt[1] + h), (0, 0, 255), 2)\n",
    "\n",
    "cv.imshow(\"image\", img)\n",
    "cv.imshow(\"template\", temp)\n",
    "cv.waitKey(0)\n",
    "cv.destroyAllWindows()"
   ]
  },
  {
   "cell_type": "markdown",
   "metadata": {},
   "source": [
    "## Background Subtraction"
   ]
  },
  {
   "cell_type": "code",
   "execution_count": 90,
   "metadata": {},
   "outputs": [],
   "source": [
    "cap = cv.VideoCapture(\"./Videos/People Walking in the Street  _ FREE STOCK FOOTAGE - NO COPYRIGHT.mp4\")\n",
    "\n",
    "# fgbg = cv.bgsegm.createBackgroundSubtractorGMG()\n",
    "fgbg = cv.createBackgroundSubtractorKNN(detectShadows = False)\n",
    "\n",
    "# kernel = cv.getStructuringElement(cv.MORPH_ELLIPSE, (3,3))\n",
    "\n",
    "while True:\n",
    "    _, frame = cap.read()\n",
    "    if frame is None:\n",
    "        break\n",
    "    \n",
    "    fgMask = fgbg.apply(frame)\n",
    "#     fgMask = cv.morphologyEx(fgMask, cv.MORPH_OPEN, kernel)\n",
    "    \n",
    "    final = cv.bitwise_and(frame, frame, mask = fgMask)\n",
    "    \n",
    "#     cv.imshow(\"Video\", frame)\n",
    "    cv.imshow(\"Masked\", final)\n",
    "    \n",
    "    \n",
    "    key = cv.waitKey(30)\n",
    "    if key == 27 or key == ord('q'):\n",
    "        break\n",
    "        \n",
    "cap.release()\n",
    "cv.destroyAllWindows()"
   ]
  },
  {
   "cell_type": "code",
   "execution_count": null,
   "metadata": {},
   "outputs": [],
   "source": []
  }
 ],
 "metadata": {
  "kernelspec": {
   "display_name": "Python 3",
   "language": "python",
   "name": "python3"
  },
  "language_info": {
   "codemirror_mode": {
    "name": "ipython",
    "version": 3
   },
   "file_extension": ".py",
   "mimetype": "text/x-python",
   "name": "python",
   "nbconvert_exporter": "python",
   "pygments_lexer": "ipython3",
   "version": "3.9.5"
  }
 },
 "nbformat": 4,
 "nbformat_minor": 4
}
